{
 "cells": [
  {
   "cell_type": "code",
   "execution_count": 37,
   "id": "b3501e14",
   "metadata": {},
   "outputs": [],
   "source": [
    "import numpy as np\n",
    "import pandas as pd\n",
    "import matplotlib.pyplot as plt\n",
    "import seaborn as sns\n",
    "import statsmodels.api as sm\n",
    "from statsmodels.formula.api import ols\n",
    "from bioinfokit.analys import stat"
   ]
  },
  {
   "cell_type": "markdown",
   "id": "58b905e2",
   "metadata": {},
   "source": [
    "### Importing data."
   ]
  },
  {
   "cell_type": "code",
   "execution_count": 4,
   "id": "ecc27b46",
   "metadata": {},
   "outputs": [
    {
     "data": {
      "text/html": [
       "<div>\n",
       "<style scoped>\n",
       "    .dataframe tbody tr th:only-of-type {\n",
       "        vertical-align: middle;\n",
       "    }\n",
       "\n",
       "    .dataframe tbody tr th {\n",
       "        vertical-align: top;\n",
       "    }\n",
       "\n",
       "    .dataframe thead th {\n",
       "        text-align: right;\n",
       "    }\n",
       "</style>\n",
       "<table border=\"1\" class=\"dataframe\">\n",
       "  <thead>\n",
       "    <tr style=\"text-align: right;\">\n",
       "      <th></th>\n",
       "      <th>Month</th>\n",
       "      <th>Zone - A</th>\n",
       "      <th>Zone - B</th>\n",
       "      <th>Zone - C</th>\n",
       "      <th>Zone - D</th>\n",
       "    </tr>\n",
       "  </thead>\n",
       "  <tbody>\n",
       "    <tr>\n",
       "      <th>0</th>\n",
       "      <td>Month - 1</td>\n",
       "      <td>1483525</td>\n",
       "      <td>1748451</td>\n",
       "      <td>1523308</td>\n",
       "      <td>2267260</td>\n",
       "    </tr>\n",
       "    <tr>\n",
       "      <th>1</th>\n",
       "      <td>Month - 2</td>\n",
       "      <td>1238428</td>\n",
       "      <td>1707421</td>\n",
       "      <td>2212113</td>\n",
       "      <td>1994341</td>\n",
       "    </tr>\n",
       "    <tr>\n",
       "      <th>2</th>\n",
       "      <td>Month - 3</td>\n",
       "      <td>1860771</td>\n",
       "      <td>2091194</td>\n",
       "      <td>1282374</td>\n",
       "      <td>1241600</td>\n",
       "    </tr>\n",
       "    <tr>\n",
       "      <th>3</th>\n",
       "      <td>Month - 4</td>\n",
       "      <td>1871571</td>\n",
       "      <td>1759617</td>\n",
       "      <td>2290580</td>\n",
       "      <td>2252681</td>\n",
       "    </tr>\n",
       "    <tr>\n",
       "      <th>4</th>\n",
       "      <td>Month - 5</td>\n",
       "      <td>1244922</td>\n",
       "      <td>1606010</td>\n",
       "      <td>1818334</td>\n",
       "      <td>1326062</td>\n",
       "    </tr>\n",
       "    <tr>\n",
       "      <th>5</th>\n",
       "      <td>Month - 6</td>\n",
       "      <td>1534390</td>\n",
       "      <td>1573128</td>\n",
       "      <td>1751825</td>\n",
       "      <td>2292044</td>\n",
       "    </tr>\n",
       "    <tr>\n",
       "      <th>6</th>\n",
       "      <td>Month - 7</td>\n",
       "      <td>1820196</td>\n",
       "      <td>1992031</td>\n",
       "      <td>1786826</td>\n",
       "      <td>1688055</td>\n",
       "    </tr>\n",
       "  </tbody>\n",
       "</table>\n",
       "</div>"
      ],
      "text/plain": [
       "       Month  Zone - A  Zone - B  Zone - C  Zone - D\n",
       "0  Month - 1   1483525   1748451   1523308   2267260\n",
       "1  Month - 2   1238428   1707421   2212113   1994341\n",
       "2  Month - 3   1860771   2091194   1282374   1241600\n",
       "3  Month - 4   1871571   1759617   2290580   2252681\n",
       "4  Month - 5   1244922   1606010   1818334   1326062\n",
       "5  Month - 6   1534390   1573128   1751825   2292044\n",
       "6  Month - 7   1820196   1992031   1786826   1688055"
      ]
     },
     "execution_count": 4,
     "metadata": {},
     "output_type": "execute_result"
    }
   ],
   "source": [
    "saldt=pd.read_csv('C:/Users/Lenovo/OneDrive/Desktop/ICT Academy/CS05 Sales_data_zone_wise.csv')\n",
    "saldt.head(7)"
   ]
  },
  {
   "cell_type": "markdown",
   "id": "b6014166",
   "metadata": {},
   "source": [
    "### Screening data."
   ]
  },
  {
   "cell_type": "code",
   "execution_count": 5,
   "id": "a3366e77",
   "metadata": {},
   "outputs": [
    {
     "data": {
      "text/plain": [
       "Month       0\n",
       "Zone - A    0\n",
       "Zone - B    0\n",
       "Zone - C    0\n",
       "Zone - D    0\n",
       "dtype: int64"
      ]
     },
     "execution_count": 5,
     "metadata": {},
     "output_type": "execute_result"
    }
   ],
   "source": [
    "saldt.isna().sum()"
   ]
  },
  {
   "cell_type": "markdown",
   "id": "cd96fecd",
   "metadata": {},
   "source": [
    "**Conclusion**<br>\n",
    "Which is very clear that there is no missing values in given data.\n"
   ]
  },
  {
   "cell_type": "code",
   "execution_count": 7,
   "id": "e530d12a",
   "metadata": {},
   "outputs": [
    {
     "data": {
      "text/html": [
       "<div>\n",
       "<style scoped>\n",
       "    .dataframe tbody tr th:only-of-type {\n",
       "        vertical-align: middle;\n",
       "    }\n",
       "\n",
       "    .dataframe tbody tr th {\n",
       "        vertical-align: top;\n",
       "    }\n",
       "\n",
       "    .dataframe thead th {\n",
       "        text-align: right;\n",
       "    }\n",
       "</style>\n",
       "<table border=\"1\" class=\"dataframe\">\n",
       "  <thead>\n",
       "    <tr style=\"text-align: right;\">\n",
       "      <th></th>\n",
       "      <th>Zone - A</th>\n",
       "      <th>Zone - B</th>\n",
       "      <th>Zone - C</th>\n",
       "      <th>Zone - D</th>\n",
       "    </tr>\n",
       "  </thead>\n",
       "  <tbody>\n",
       "    <tr>\n",
       "      <th>count</th>\n",
       "      <td>2.900000e+01</td>\n",
       "      <td>2.900000e+01</td>\n",
       "      <td>2.900000e+01</td>\n",
       "      <td>2.900000e+01</td>\n",
       "    </tr>\n",
       "    <tr>\n",
       "      <th>mean</th>\n",
       "      <td>1.540493e+06</td>\n",
       "      <td>1.755560e+06</td>\n",
       "      <td>1.772871e+06</td>\n",
       "      <td>1.842927e+06</td>\n",
       "    </tr>\n",
       "    <tr>\n",
       "      <th>std</th>\n",
       "      <td>2.619401e+05</td>\n",
       "      <td>1.683899e+05</td>\n",
       "      <td>3.331937e+05</td>\n",
       "      <td>3.750165e+05</td>\n",
       "    </tr>\n",
       "    <tr>\n",
       "      <th>min</th>\n",
       "      <td>1.128185e+06</td>\n",
       "      <td>1.527574e+06</td>\n",
       "      <td>1.237722e+06</td>\n",
       "      <td>1.234311e+06</td>\n",
       "    </tr>\n",
       "    <tr>\n",
       "      <th>25%</th>\n",
       "      <td>1.305972e+06</td>\n",
       "      <td>1.606010e+06</td>\n",
       "      <td>1.523308e+06</td>\n",
       "      <td>1.520406e+06</td>\n",
       "    </tr>\n",
       "    <tr>\n",
       "      <th>50%</th>\n",
       "      <td>1.534390e+06</td>\n",
       "      <td>1.740365e+06</td>\n",
       "      <td>1.767047e+06</td>\n",
       "      <td>1.854412e+06</td>\n",
       "    </tr>\n",
       "    <tr>\n",
       "      <th>75%</th>\n",
       "      <td>1.820196e+06</td>\n",
       "      <td>1.875658e+06</td>\n",
       "      <td>2.098463e+06</td>\n",
       "      <td>2.180416e+06</td>\n",
       "    </tr>\n",
       "    <tr>\n",
       "      <th>max</th>\n",
       "      <td>2.004480e+06</td>\n",
       "      <td>2.091194e+06</td>\n",
       "      <td>2.290580e+06</td>\n",
       "      <td>2.364132e+06</td>\n",
       "    </tr>\n",
       "  </tbody>\n",
       "</table>\n",
       "</div>"
      ],
      "text/plain": [
       "           Zone - A      Zone - B      Zone - C      Zone - D\n",
       "count  2.900000e+01  2.900000e+01  2.900000e+01  2.900000e+01\n",
       "mean   1.540493e+06  1.755560e+06  1.772871e+06  1.842927e+06\n",
       "std    2.619401e+05  1.683899e+05  3.331937e+05  3.750165e+05\n",
       "min    1.128185e+06  1.527574e+06  1.237722e+06  1.234311e+06\n",
       "25%    1.305972e+06  1.606010e+06  1.523308e+06  1.520406e+06\n",
       "50%    1.534390e+06  1.740365e+06  1.767047e+06  1.854412e+06\n",
       "75%    1.820196e+06  1.875658e+06  2.098463e+06  2.180416e+06\n",
       "max    2.004480e+06  2.091194e+06  2.290580e+06  2.364132e+06"
      ]
     },
     "execution_count": 7,
     "metadata": {},
     "output_type": "execute_result"
    }
   ],
   "source": [
    "saldt.describe()"
   ]
  },
  {
   "cell_type": "markdown",
   "id": "b04aab8d",
   "metadata": {},
   "source": [
    "# (i) Mean sales for each regions:-"
   ]
  },
  {
   "cell_type": "code",
   "execution_count": 10,
   "id": "2bbc0689",
   "metadata": {},
   "outputs": [
    {
     "data": {
      "text/plain": [
       "Zone - A    1.540493e+06\n",
       "Zone - B    1.755560e+06\n",
       "Zone - C    1.772871e+06\n",
       "Zone - D    1.842927e+06\n",
       "dtype: float64"
      ]
     },
     "execution_count": 10,
     "metadata": {},
     "output_type": "execute_result"
    }
   ],
   "source": [
    "means_col=['Zone - A','Zone - B','Zone - C','Zone - D']\n",
    "saldt[means_col].mean()"
   ]
  },
  {
   "cell_type": "markdown",
   "id": "4a814e71",
   "metadata": {},
   "source": [
    "**NB**:-<space>\n",
    "which is very clear that from the data info and from the above output means for reach is given as above."
   ]
  },
  {
   "cell_type": "markdown",
   "id": "abd6229a",
   "metadata": {},
   "source": [
    "#### Graphically"
   ]
  },
  {
   "cell_type": "code",
   "execution_count": 11,
   "id": "e386035e",
   "metadata": {},
   "outputs": [
    {
     "data": {
      "text/plain": [
       "<AxesSubplot:>"
      ]
     },
     "execution_count": 11,
     "metadata": {},
     "output_type": "execute_result"
    },
    {
     "data": {
      "image/png": "[encoded data removed]",
      "text/plain": [
       "<Figure size 432x288 with 1 Axes>"
      ]
     },
     "metadata": {
      "needs_background": "light"
     },
     "output_type": "display_data"
    }
   ],
   "source": [
    "saldt.mean().plot(kind='bar')"
   ]
  },
  {
   "cell_type": "markdown",
   "id": "e37198b6",
   "metadata": {},
   "source": [
    "# (i) Sales mean of each month:-"
   ]
  },
  {
   "cell_type": "code",
   "execution_count": 21,
   "id": "71503cce",
   "metadata": {},
   "outputs": [
    {
     "name": "stdout",
     "output_type": "stream",
     "text": [
      "0     1727706.4\n",
      "1     1725045.5\n",
      "2     1690384.3\n",
      "3     1998008.6\n",
      "4     1484158.8\n",
      "5     1741029.2\n",
      "6     1838644.3\n",
      "7     1892382.8\n",
      "8     1693283.6\n",
      "9     1802192.9\n",
      "10    1781041.1\n",
      "11    1563536.5\n",
      "12    1469426.0\n",
      "13    1797691.0\n",
      "14    1480111.0\n",
      "15    1604690.5\n",
      "16    1703326.4\n",
      "17    1763651.7\n",
      "18    1708480.9\n",
      "19    1711484.0\n",
      "20    1836296.1\n",
      "21    1812919.5\n",
      "22    1725568.7\n",
      "23    1920318.7\n",
      "24    1507084.0\n",
      "25    1616303.8\n",
      "26    1590342.5\n",
      "27    1810647.1\n",
      "28    1651530.0\n",
      "dtype: float64\n"
     ]
    }
   ],
   "source": [
    "month=saldt.mean(axis=1)\n",
    "print(month)"
   ]
  },
  {
   "cell_type": "markdown",
   "id": "61ca6c53",
   "metadata": {},
   "source": [
    "# (iii) One Way Anova"
   ]
  },
  {
   "cell_type": "markdown",
   "id": "63acb28b",
   "metadata": {},
   "source": [
    "From the provided information's we have one factor that is 'Months' and factor has four level that is treatments are Zone - A, Zone - B, Zone - C and Zone - D respectively."
   ]
  },
  {
   "cell_type": "markdown",
   "id": "55401b5d",
   "metadata": {},
   "source": [
    "## Assumption checking"
   ]
  },
  {
   "cell_type": "code",
   "execution_count": 28,
   "id": "69b03467",
   "metadata": {},
   "outputs": [
    {
     "data": {
      "image/png": "[encoded data removed]",
      "text/plain": [
       "<Figure size 432x288 with 1 Axes>"
      ]
     },
     "metadata": {
      "needs_background": "light"
     },
     "output_type": "display_data"
    }
   ],
   "source": [
    "saldt1 = pd.melt(saldt.reset_index(), id_vars=['index'], value_vars=['Zone - A', 'Zone - B', 'Zone - C', 'Zone - D'])\n",
    "saldt1.columns = ['index', 'treatments', 'value']\n",
    "ax = sns.boxplot(x='treatments', y='value', data=saldt1, color='#99c2a2')\n",
    "ax = sns.swarmplot(x=\"treatments\", y=\"value\", data=saldt1, color='#7d0013')\n",
    "plt.show()"
   ]
  },
  {
   "cell_type": "markdown",
   "id": "8a9226f8",
   "metadata": {},
   "source": [
    "Since there is no values lies outside of lower and upper limit, we can assume normality and also Homoscedasticity. "
   ]
  },
  {
   "cell_type": "markdown",
   "id": "b329b9a1",
   "metadata": {},
   "source": [
    "### (i) Method - 1 "
   ]
  },
  {
   "cell_type": "code",
   "execution_count": 38,
   "id": "f4eaf903",
   "metadata": {},
   "outputs": [
    {
     "data": {
      "text/html": [
       "<div>\n",
       "<style scoped>\n",
       "    .dataframe tbody tr th:only-of-type {\n",
       "        vertical-align: middle;\n",
       "    }\n",
       "\n",
       "    .dataframe tbody tr th {\n",
       "        vertical-align: top;\n",
       "    }\n",
       "\n",
       "    .dataframe thead th {\n",
       "        text-align: right;\n",
       "    }\n",
       "</style>\n",
       "<table border=\"1\" class=\"dataframe\">\n",
       "  <thead>\n",
       "    <tr style=\"text-align: right;\">\n",
       "      <th></th>\n",
       "      <th>sum_sq</th>\n",
       "      <th>df</th>\n",
       "      <th>F</th>\n",
       "      <th>PR(&gt;F)</th>\n",
       "    </tr>\n",
       "  </thead>\n",
       "  <tbody>\n",
       "    <tr>\n",
       "      <th>C(treatments)</th>\n",
       "      <td>1.483058e+12</td>\n",
       "      <td>3.0</td>\n",
       "      <td>5.672056</td>\n",
       "      <td>0.001183</td>\n",
       "    </tr>\n",
       "    <tr>\n",
       "      <th>Residual</th>\n",
       "      <td>9.761449e+12</td>\n",
       "      <td>112.0</td>\n",
       "      <td>NaN</td>\n",
       "      <td>NaN</td>\n",
       "    </tr>\n",
       "  </tbody>\n",
       "</table>\n",
       "</div>"
      ],
      "text/plain": [
       "                     sum_sq     df         F    PR(>F)\n",
       "C(treatments)  1.483058e+12    3.0  5.672056  0.001183\n",
       "Residual       9.761449e+12  112.0       NaN       NaN"
      ]
     },
     "execution_count": 38,
     "metadata": {},
     "output_type": "execute_result"
    }
   ],
   "source": [
    "mfit= ols('value ~ C(treatments)', data=saldt1).fit()\n",
    "anvtab= sm.stats.anova_lm(mfit, typ=2)\n",
    "anvtab"
   ]
  },
  {
   "cell_type": "markdown",
   "id": "5cfdb34a",
   "metadata": {},
   "source": [
    "### (ii) Method - 2. Using Bio info kit"
   ]
  },
  {
   "cell_type": "code",
   "execution_count": 43,
   "id": "f99d1323",
   "metadata": {},
   "outputs": [
    {
     "data": {
      "text/html": [
       "<div>\n",
       "<style scoped>\n",
       "    .dataframe tbody tr th:only-of-type {\n",
       "        vertical-align: middle;\n",
       "    }\n",
       "\n",
       "    .dataframe tbody tr th {\n",
       "        vertical-align: top;\n",
       "    }\n",
       "\n",
       "    .dataframe thead th {\n",
       "        text-align: right;\n",
       "    }\n",
       "</style>\n",
       "<table border=\"1\" class=\"dataframe\">\n",
       "  <thead>\n",
       "    <tr style=\"text-align: right;\">\n",
       "      <th></th>\n",
       "      <th>df</th>\n",
       "      <th>sum_sq</th>\n",
       "      <th>mean_sq</th>\n",
       "      <th>F</th>\n",
       "      <th>PR(&gt;F)</th>\n",
       "    </tr>\n",
       "  </thead>\n",
       "  <tbody>\n",
       "    <tr>\n",
       "      <th>C(treatments)</th>\n",
       "      <td>3.0</td>\n",
       "      <td>1.483058e+12</td>\n",
       "      <td>4.943525e+11</td>\n",
       "      <td>5.672056</td>\n",
       "      <td>0.001183</td>\n",
       "    </tr>\n",
       "    <tr>\n",
       "      <th>Residual</th>\n",
       "      <td>112.0</td>\n",
       "      <td>9.761449e+12</td>\n",
       "      <td>8.715579e+10</td>\n",
       "      <td>NaN</td>\n",
       "      <td>NaN</td>\n",
       "    </tr>\n",
       "  </tbody>\n",
       "</table>\n",
       "</div>"
      ],
      "text/plain": [
       "                  df        sum_sq       mean_sq         F    PR(>F)\n",
       "C(treatments)    3.0  1.483058e+12  4.943525e+11  5.672056  0.001183\n",
       "Residual       112.0  9.761449e+12  8.715579e+10       NaN       NaN"
      ]
     },
     "execution_count": 43,
     "metadata": {},
     "output_type": "execute_result"
    }
   ],
   "source": [
    "mfit2=stat()\n",
    "mfit2.anova_stat(df=saldt1,res_var='value',anova_model='value~C(treatments)')\n",
    "mfit2.anova_summary"
   ]
  },
  {
   "cell_type": "markdown",
   "id": "7cab1c8e",
   "metadata": {},
   "source": [
    "## 5 Step hypothesis:"
   ]
  },
  {
   "cell_type": "markdown",
   "id": "35432aac",
   "metadata": {},
   "source": [
    "<U>**Hypothesis:**</u><br>\n",
    "Null hypothesis<space><space>\t\tH0:  µ1 = µ2 = µ3 {This is claim}<br>\n",
    "Alternative hypothesis <space><space>  HA: At least one of µi’s are not equal <br>\n",
    "<u>**Test statistic:**</u><br>\n",
    "F = 5.67<br>\n",
    "<u>**P-value:**</u><br>\n",
    "By p value approximation method, the p value using F-distribution at df1 = 3 and df2 = 112 it is given as below;<br>\n",
    "P-value <space>=<space> P (F3,112 > 5.67)<space> = <space>0.0012 <br>\n",
    "<u>**Decision:**</u><br>\n",
    "Since P-value = 0.0012 < α = 0.05, we can conclude that we reject H0.<br>\n",
    "<u>**Conclusion:**</u><br>\n",
    "At 5% level of significance, we can conclude that there is no sufficient enough evidence to support the claim the all four zone generates the same amount of sales.\n"
   ]
  },
  {
   "cell_type": "markdown",
   "id": "d817f957",
   "metadata": {},
   "source": [
    "Since when we rejected the null hypothesis we can say that the at least one of the mean is different. So, we can do Tukey_HSD to which treatment is different."
   ]
  },
  {
   "cell_type": "code",
   "execution_count": 45,
   "id": "2e5493ab",
   "metadata": {},
   "outputs": [
    {
     "data": {
      "text/html": [
       "<div>\n",
       "<style scoped>\n",
       "    .dataframe tbody tr th:only-of-type {\n",
       "        vertical-align: middle;\n",
       "    }\n",
       "\n",
       "    .dataframe tbody tr th {\n",
       "        vertical-align: top;\n",
       "    }\n",
       "\n",
       "    .dataframe thead th {\n",
       "        text-align: right;\n",
       "    }\n",
       "</style>\n",
       "<table border=\"1\" class=\"dataframe\">\n",
       "  <thead>\n",
       "    <tr style=\"text-align: right;\">\n",
       "      <th></th>\n",
       "      <th>group1</th>\n",
       "      <th>group2</th>\n",
       "      <th>Diff</th>\n",
       "      <th>Lower</th>\n",
       "      <th>Upper</th>\n",
       "      <th>q-value</th>\n",
       "      <th>p-value</th>\n",
       "    </tr>\n",
       "  </thead>\n",
       "  <tbody>\n",
       "    <tr>\n",
       "      <th>0</th>\n",
       "      <td>Zone - A</td>\n",
       "      <td>Zone - B</td>\n",
       "      <td>215066.448276</td>\n",
       "      <td>12856.297302</td>\n",
       "      <td>417276.599250</td>\n",
       "      <td>3.923047</td>\n",
       "      <td>0.032441</td>\n",
       "    </tr>\n",
       "    <tr>\n",
       "      <th>1</th>\n",
       "      <td>Zone - A</td>\n",
       "      <td>Zone - C</td>\n",
       "      <td>232377.896552</td>\n",
       "      <td>30167.745578</td>\n",
       "      <td>434588.047526</td>\n",
       "      <td>4.238827</td>\n",
       "      <td>0.017418</td>\n",
       "    </tr>\n",
       "    <tr>\n",
       "      <th>2</th>\n",
       "      <td>Zone - A</td>\n",
       "      <td>Zone - D</td>\n",
       "      <td>302433.620690</td>\n",
       "      <td>100223.469716</td>\n",
       "      <td>504643.771664</td>\n",
       "      <td>5.516720</td>\n",
       "      <td>0.001000</td>\n",
       "    </tr>\n",
       "    <tr>\n",
       "      <th>3</th>\n",
       "      <td>Zone - B</td>\n",
       "      <td>Zone - C</td>\n",
       "      <td>17311.448276</td>\n",
       "      <td>-184898.702698</td>\n",
       "      <td>219521.599250</td>\n",
       "      <td>0.315780</td>\n",
       "      <td>0.900000</td>\n",
       "    </tr>\n",
       "    <tr>\n",
       "      <th>4</th>\n",
       "      <td>Zone - B</td>\n",
       "      <td>Zone - D</td>\n",
       "      <td>87367.172414</td>\n",
       "      <td>-114842.978560</td>\n",
       "      <td>289577.323388</td>\n",
       "      <td>1.593673</td>\n",
       "      <td>0.654049</td>\n",
       "    </tr>\n",
       "    <tr>\n",
       "      <th>5</th>\n",
       "      <td>Zone - C</td>\n",
       "      <td>Zone - D</td>\n",
       "      <td>70055.724138</td>\n",
       "      <td>-132154.426836</td>\n",
       "      <td>272265.875112</td>\n",
       "      <td>1.277893</td>\n",
       "      <td>0.778653</td>\n",
       "    </tr>\n",
       "  </tbody>\n",
       "</table>\n",
       "</div>"
      ],
      "text/plain": [
       "     group1    group2           Diff          Lower          Upper   q-value  \\\n",
       "0  Zone - A  Zone - B  215066.448276   12856.297302  417276.599250  3.923047   \n",
       "1  Zone - A  Zone - C  232377.896552   30167.745578  434588.047526  4.238827   \n",
       "2  Zone - A  Zone - D  302433.620690  100223.469716  504643.771664  5.516720   \n",
       "3  Zone - B  Zone - C   17311.448276 -184898.702698  219521.599250  0.315780   \n",
       "4  Zone - B  Zone - D   87367.172414 -114842.978560  289577.323388  1.593673   \n",
       "5  Zone - C  Zone - D   70055.724138 -132154.426836  272265.875112  1.277893   \n",
       "\n",
       "    p-value  \n",
       "0  0.032441  \n",
       "1  0.017418  \n",
       "2  0.001000  \n",
       "3  0.900000  \n",
       "4  0.654049  \n",
       "5  0.778653  "
      ]
     },
     "execution_count": 45,
     "metadata": {},
     "output_type": "execute_result"
    }
   ],
   "source": [
    "thsd= stat()\n",
    "thsd.tukey_hsd(df=saldt1,res_var='value',xfac_var='treatments',anova_model='value~C(treatments)')\n",
    "thsd.tukey_summary"
   ]
  },
  {
   "cell_type": "markdown",
   "id": "3793d3ec",
   "metadata": {},
   "source": [
    "<u>**Conclusion**</u><br>\n",
    "We can conclude that all pair-wise comparison of Zone - A with other Zone's are statistically significant."
   ]
  }
 ],
 "metadata": {
  "kernelspec": {
   "display_name": "Python 3",
   "language": "python",
   "name": "python3"
  },
  "language_info": {
   "codemirror_mode": {
    "name": "ipython",
    "version": 3
   },
   "file_extension": ".py",
   "mimetype": "text/x-python",
   "name": "python",
   "nbconvert_exporter": "python",
   "pygments_lexer": "ipython3",
   "version": "3.8.8"
  }
 },
 "nbformat": 4,
 "nbformat_minor": 5
}
